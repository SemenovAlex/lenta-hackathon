{
 "cells": [
  {
   "cell_type": "code",
   "execution_count": 70,
   "id": "2988bba4",
   "metadata": {},
   "outputs": [],
   "source": [
    "import pandas as pd\n",
    "import numpy as np\n",
    "from tqdm import tqdm"
   ]
  },
  {
   "cell_type": "code",
   "execution_count": 71,
   "id": "63d3cacc",
   "metadata": {},
   "outputs": [],
   "source": [
    "hist_data = pd.read_csv('hist_data.csv')"
   ]
  },
  {
   "cell_type": "code",
   "execution_count": 72,
   "id": "411449a4",
   "metadata": {},
   "outputs": [],
   "source": [
    "orders_sort = hist_data[['buyer_id', 'pav_order_id', 'created']].drop_duplicates()\\\n",
    "                                                                .sort_values(by=['buyer_id', 'created'])\\\n",
    "                                                                .reset_index(drop=True)\n",
    "buyer_last_order = orders_sort.drop_duplicates(subset=['buyer_id'], keep='last')"
   ]
  },
  {
   "cell_type": "code",
   "execution_count": 73,
   "id": "40f8415f",
   "metadata": {},
   "outputs": [
    {
     "data": {
      "text/plain": [
       "0.27632608423136606"
      ]
     },
     "execution_count": 73,
     "metadata": {},
     "output_type": "execute_result"
    }
   ],
   "source": [
    "len(buyer_last_order) / len(orders_sort)"
   ]
  },
  {
   "cell_type": "code",
   "execution_count": 74,
   "id": "904aa860",
   "metadata": {},
   "outputs": [],
   "source": [
    "train_orders = orders_sort[~np.isin(orders_sort.pav_order_id, buyer_last_order.pav_order_id)]['pav_order_id'].values\n",
    "test_orders = orders_sort[np.isin(orders_sort.pav_order_id, buyer_last_order.pav_order_id)]['pav_order_id'].values"
   ]
  },
  {
   "cell_type": "code",
   "execution_count": 75,
   "id": "2b8ba872",
   "metadata": {},
   "outputs": [],
   "source": [
    "train_orders, test_orders = set(train_orders), set(test_orders)"
   ]
  },
  {
   "cell_type": "code",
   "execution_count": 77,
   "id": "944b8af8",
   "metadata": {},
   "outputs": [],
   "source": [
    "train = hist_data[hist_data['pav_order_id'].apply(lambda x: x in train_orders)]\n",
    "test = hist_data[hist_data['pav_order_id'].apply(lambda x: x in test_orders)]"
   ]
  },
  {
   "cell_type": "code",
   "execution_count": 81,
   "id": "3cb648d7",
   "metadata": {},
   "outputs": [
    {
     "data": {
      "text/plain": [
       "(4529889, 4529889)"
      ]
     },
     "execution_count": 81,
     "metadata": {},
     "output_type": "execute_result"
    }
   ],
   "source": [
    "train.shape[0] + test.shape[0], hist_data.shape[0]"
   ]
  },
  {
   "cell_type": "code",
   "execution_count": 84,
   "id": "5dd80f0b",
   "metadata": {},
   "outputs": [
    {
     "data": {
      "text/plain": [
       "0.2767352577513489"
      ]
     },
     "execution_count": 84,
     "metadata": {},
     "output_type": "execute_result"
    }
   ],
   "source": [
    "test.shape[0] / hist_data.shape[0]"
   ]
  },
  {
   "cell_type": "code",
   "execution_count": 85,
   "id": "6884c3d3",
   "metadata": {},
   "outputs": [],
   "source": [
    "test = test.sort_values('pav_order_id').reset_index(drop=True)"
   ]
  },
  {
   "cell_type": "code",
   "execution_count": 93,
   "id": "4b6c9150",
   "metadata": {},
   "outputs": [],
   "source": [
    "orders = list(test.pav_order_id.values)\n",
    "i = 0\n",
    "co = orders[0]\n",
    "split = []\n",
    "for j in range(len(orders)):\n",
    "    if orders[j] != co:\n",
    "        i = 0\n",
    "        co = orders[j]\n",
    "    split.append(i)\n",
    "    i += 1"
   ]
  },
  {
   "cell_type": "code",
   "execution_count": 101,
   "id": "65612c17",
   "metadata": {},
   "outputs": [],
   "source": [
    "test['split'] = split\n",
    "totals = test.groupby('pav_order_id')['item_id'].count().reset_index()\n",
    "totals.columns = ['pav_order_id', 'total']\n",
    "test = test.merge(totals)\n",
    "test.split = test.split / test.total"
   ]
  },
  {
   "cell_type": "code",
   "execution_count": 102,
   "id": "fe4612fc",
   "metadata": {},
   "outputs": [],
   "source": [
    "val_shown = test[test['split'] <= 0.7]\n",
    "val_hidden = test[test['split'] > 0.7]"
   ]
  },
  {
   "cell_type": "code",
   "execution_count": 104,
   "id": "506b6a5f",
   "metadata": {},
   "outputs": [
    {
     "data": {
      "text/plain": [
       "((913558, 10), (340022, 10))"
      ]
     },
     "execution_count": 104,
     "metadata": {},
     "output_type": "execute_result"
    }
   ],
   "source": [
    "val_shown.shape, val_hidden.shape"
   ]
  },
  {
   "cell_type": "code",
   "execution_count": 106,
   "id": "f9e6772b",
   "metadata": {},
   "outputs": [],
   "source": [
    "val_shown = val_shown.drop(['split', 'total'], axis=1)\n",
    "val_hidden = val_hidden.drop(['split', 'total'], axis=1)"
   ]
  },
  {
   "cell_type": "code",
   "execution_count": 107,
   "id": "4ecc0d2d",
   "metadata": {},
   "outputs": [],
   "source": [
    "train.to_csv('train.csv', index=False)\n",
    "val_shown.to_csv('val_shown.csv', index=False)\n",
    "val_hidden.to_csv('val_hidden.csv', index=False)"
   ]
  },
  {
   "cell_type": "code",
   "execution_count": null,
   "id": "ae2f7190",
   "metadata": {},
   "outputs": [],
   "source": []
  }
 ],
 "metadata": {
  "kernelspec": {
   "display_name": "Python 3 (ipykernel)",
   "language": "python",
   "name": "python3"
  },
  "language_info": {
   "codemirror_mode": {
    "name": "ipython",
    "version": 3
   },
   "file_extension": ".py",
   "mimetype": "text/x-python",
   "name": "python",
   "nbconvert_exporter": "python",
   "pygments_lexer": "ipython3",
   "version": "3.7.10"
  }
 },
 "nbformat": 4,
 "nbformat_minor": 5
}
