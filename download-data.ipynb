{
 "cells": [
  {
   "cell_type": "code",
   "execution_count": 1,
   "id": "ee1dae25",
   "metadata": {},
   "outputs": [
    {
     "name": "stdout",
     "output_type": "stream",
     "text": [
      "100% [......................................................................] 347659751 / 347659751"
     ]
    },
    {
     "data": {
      "text/plain": [
       "'data\\\\hist_data.csv'"
      ]
     },
     "execution_count": 1,
     "metadata": {},
     "output_type": "execute_result"
    }
   ],
   "source": [
    "import wget\n",
    "from os.path import join\n",
    "url = 'https://hktn2022.blob.core.windows.net/dataset/hist_data.csv'\n",
    "path = join('data', 'hist_data.csv')\n",
    "wget.download(url, out = path)"
   ]
  },
  {
   "cell_type": "code",
   "execution_count": 2,
   "id": "483aabcb",
   "metadata": {},
   "outputs": [
    {
     "name": "stdout",
     "output_type": "stream",
     "text": [
      "100% [........................................................................] 76848171 / 76848171"
     ]
    },
    {
     "data": {
      "text/plain": [
       "'data\\\\test.csv'"
      ]
     },
     "execution_count": 2,
     "metadata": {},
     "output_type": "execute_result"
    }
   ],
   "source": [
    "url = 'https://hktn2022.blob.core.windows.net/dataset/test.csv'\n",
    "path = join('data', 'test.csv')\n",
    "wget.download(url, out = path)"
   ]
  }
 ],
 "metadata": {
  "kernelspec": {
   "display_name": "Python 3 (ipykernel)",
   "language": "python",
   "name": "python3"
  },
  "language_info": {
   "codemirror_mode": {
    "name": "ipython",
    "version": 3
   },
   "file_extension": ".py",
   "mimetype": "text/x-python",
   "name": "python",
   "nbconvert_exporter": "python",
   "pygments_lexer": "ipython3",
   "version": "3.7.10"
  }
 },
 "nbformat": 4,
 "nbformat_minor": 5
}
